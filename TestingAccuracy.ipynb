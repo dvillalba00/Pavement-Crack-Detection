{
 "cells": [
  {
   "cell_type": "markdown",
   "id": "d9f83996",
   "metadata": {},
   "source": [
    "# Important Note\n",
    "\n",
    "**In order to use these functions, you need to have separate, labeled images that have the cracks outlined in black.** This notebook can be utilized to score the thresholded crack images against ground truth images that have had the cracks traced over. Here are steps on how to use the code below:\n",
    "1. Duplicate a folder of the segmented images (not yet thresholded)\n",
    "2. For images with the cracks, trace over the cracks in black with an image editing feature of your choice\n",
    "3. *Save in a .txt file the name of the pictures that you edited* - this will allow you to only test the accuracy of images with cracks since all the others without them are the same, edited or unedited.\n",
    "4. Load the paths of the labeled segemented images and the .txt file that contains the name of the pictures into the `loadLabeledImages`. Save this function to a dictionary.\n",
    "5. You can now load your dictionary from the step above and the dictionary of thresholded images into the `testImages` function and save them to a variable (i.e. `score`).\n",
    "6. It is suggested to get one value rather than the score for each image, to print out the mean value of the variable from the above step (i.e. `print(numpy.average(list(score.values()))`)"
   ]
  },
  {
   "cell_type": "markdown",
   "id": "3ef843e4",
   "metadata": {},
   "source": [
    "# Install Dependencies\n",
    "\n",
    "Uncomment and run the first time to make sure you have all the dependencies."
   ]
  },
  {
   "cell_type": "code",
   "execution_count": null,
   "id": "6666cd04",
   "metadata": {},
   "outputs": [],
   "source": [
    "#!pip install -r dependencies.txt\n",
    "#!pip install opencv-contrib-python==4.5.3.56"
   ]
  },
  {
   "cell_type": "markdown",
   "id": "3ec47832",
   "metadata": {},
   "source": [
    "# Imports\n",
    "\n",
    " Please run the following code to import all of the functions."
   ]
  },
  {
   "cell_type": "code",
   "execution_count": null,
   "id": "2a35a24c",
   "metadata": {},
   "outputs": [],
   "source": [
    "import numpy as np\n",
    "import os\n",
    "from skimage import io\n",
    "from skimage.filters import threshold_multiotsu\n",
    "from src.CreatePaths import createPaths\n",
    "from src.LoadImage import loadImage\n",
    "from src.ThresholdCutImages import thresholdCutImages\n",
    "from src.HeatImage import heatImage\n",
    "from src.TestImages import loadLabeledImages, testImages\n",
    "from src.SaveDictionary import saveDictionary\n",
    "from src.StitchImageDict import stitchImageDict, stitchRows\n",
    "import cv2"
   ]
  },
  {
   "cell_type": "markdown",
   "id": "f40d572c",
   "metadata": {},
   "source": [
    "# Initialize Functions\n",
    "\n",
    "Run the cells below to initialize the functions."
   ]
  },
  {
   "cell_type": "code",
   "execution_count": null,
   "id": "b2949147",
   "metadata": {},
   "outputs": [],
   "source": [
    "def loadLabeledImages(path, images, color=(0,0,0)):\n",
    "    \"\"\"\n",
    "    Loads in the the hand traced images and creates a binary image \n",
    "    of black pixels vs rest\n",
    "    Args:\n",
    "        path - the path to the folder containing ONLY the images - ground_truth folder.\n",
    "        images - the path to the file containing the images labeled - .txt.\n",
    "        color - the color the images were labeled in.\n",
    "    \"\"\"\n",
    "    text = open(images,'r')\n",
    "    labeled_images = [line for line in text.readlines() ]\n",
    "    for name in range(len(labeled_images)):\n",
    "        labeled_images[name] = labeled_images[name].strip()\n",
    "    #print(labeled_images)\n",
    "    \n",
    "    labeled_image_dict = {}\n",
    "    for file in os.listdir(path):\n",
    "        if file[-8:-4] in labeled_images:\n",
    "            key = (int(file[-8:-6]), int(file[-6:-4]))\n",
    "            # some corrupted files so have to check\n",
    "            try:\n",
    "                # cv2 loads as BGR, not RGB\n",
    "                # not applicable in this case\n",
    "                img = cv2.imread(os.path.join(path, file))\n",
    "                labeled_image_dict[key] = cv2.inRange(img[...,:3], color, color)\n",
    "            except:\n",
    "                #print('no good')\n",
    "                print(key)\n",
    "                \n",
    "    return labeled_image_dict"
   ]
  },
  {
   "cell_type": "code",
   "execution_count": null,
   "id": "5545c5c9",
   "metadata": {},
   "outputs": [],
   "source": [
    "def testImages(labeled_image_dict, thresholded_dict):\n",
    "    score_dict = {}\n",
    "    for key in labeled_image_dict:\n",
    "        # percent different\n",
    "        # is a heuristic for percent wrong\n",
    "        cLabeled = np.count_nonzero(labeled_image_dict[key])\n",
    "        cThresh = np.count_nonzero(thresholded_dict[key])\n",
    "        ans = np.min(cLabeled, cThresh) / np.max(cLabeled, cThresh)\n",
    "        score_dict[key] = ans\n",
    "    return score_dict"
   ]
  },
  {
   "cell_type": "markdown",
   "id": "3e7cdf68",
   "metadata": {},
   "source": [
    "#### Example of what code may look like when using these functions"
   ]
  },
  {
   "cell_type": "markdown",
   "id": "fc858d15",
   "metadata": {},
   "source": [
    "Step 4"
   ]
  },
  {
   "cell_type": "code",
   "execution_count": null,
   "id": "3323c32c",
   "metadata": {},
   "outputs": [],
   "source": [
    "#labeled_img = loadLabeledImages('./data/ground_truth/', './data/LabeledImages.txt')"
   ]
  },
  {
   "cell_type": "markdown",
   "id": "aca484ba",
   "metadata": {},
   "source": [
    "Step 5 + 6"
   ]
  },
  {
   "cell_type": "code",
   "execution_count": null,
   "id": "ddba4620",
   "metadata": {},
   "outputs": [],
   "source": [
    "# score = testImages(labeled_img, image_dict[image]['thresholded_dict'])\n",
    "# np.average(list(score.values()))"
   ]
  }
 ],
 "metadata": {
  "kernelspec": {
   "display_name": "Python 3 (ipykernel)",
   "language": "python",
   "name": "python3"
  },
  "language_info": {
   "codemirror_mode": {
    "name": "ipython",
    "version": 3
   },
   "file_extension": ".py",
   "mimetype": "text/x-python",
   "name": "python",
   "nbconvert_exporter": "python",
   "pygments_lexer": "ipython3",
   "version": "3.8.12"
  }
 },
 "nbformat": 4,
 "nbformat_minor": 5
}
