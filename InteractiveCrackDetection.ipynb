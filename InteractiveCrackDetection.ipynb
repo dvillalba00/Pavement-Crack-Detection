{
 "cells": [
  {
   "cell_type": "markdown",
   "id": "838ddcc7",
   "metadata": {},
   "source": [
    "# Hello\n",
    "\n",
    "Welcome to the SME Pavement Crack Detection Interactive Notebook. Please run the following code to import all of the functions."
   ]
  },
  {
   "cell_type": "code",
   "execution_count": null,
   "id": "45598707",
   "metadata": {},
   "outputs": [],
   "source": [
    "import numpy as np\n",
    "import os\n",
    "from skimage import io\n",
    "from skimage.filters import threshold_multiotsu\n",
    "from src.CreatePaths import createPaths\n",
    "from src.LoadImage import loadImage\n",
    "from src.SaveCutImages import saveCutImages\n",
    "from src.ThresholdCutImages import thresholdCutImages\n",
    "from src.SaveThresholdedImages import saveThresholdedImages\n",
    "from src.HeatImage import heatImage\n",
    "# We do not need argparser since this is interactive.\n",
    "# from src.ArgParser import parseArgs\n",
    "from src.TestImages import loadLabeledImages, saveLabeledCutImages, testImages\n",
    "from src.SaveDictionary import saveDictionary"
   ]
  },
  {
   "cell_type": "markdown",
   "id": "50620c41",
   "metadata": {},
   "source": [
    "# Globals\n",
    "\n",
    "The following are definitions of global paramters. Change them as need be, but best to leave them alone."
   ]
  },
  {
   "cell_type": "code",
   "execution_count": null,
   "id": "def5a3b3",
   "metadata": {},
   "outputs": [],
   "source": [
    "# Feel free to change\n",
    "DIVIDE_X = 25  # Number of divisions on one of axies\n",
    "DIVIDE_Y = 25  # Number of diisions on other axis\n",
    "\n",
    "# Try not to change\n",
    "dir_path = os.path.realpath('.')  # The directory of the project.\n",
    "\n",
    "# Do not change\n",
    "thresholding_function = threshold_multiotsu  # Function for thresholding.\n"
   ]
  },
  {
   "cell_type": "markdown",
   "id": "3c582eb6",
   "metadata": {},
   "source": [
    "# Creating Paths\n",
    "\n",
    "The following code is to create the different sub folders that will be required to run the rest of the code."
   ]
  },
  {
   "cell_type": "code",
   "execution_count": null,
   "id": "05563ef6",
   "metadata": {},
   "outputs": [],
   "source": [
    "IMAGES = os.listdir(os.path.join(dir_path , \"data\" , \"raw_images\"))\n",
    "\n",
    "required_paths = [  # The folders that must exist.\n",
    "    \"\\\\data\",\n",
    "    \"\\\\data\\\\raw_images\",  # Where the .tif files will be stored.\n",
    "    \"\\\\results\",\n",
    "]\n",
    "createPaths(required_paths, dir_path)"
   ]
  },
  {
   "cell_type": "code",
   "execution_count": null,
   "id": "1e0e5264",
   "metadata": {},
   "outputs": [],
   "source": [
    "image_dict = {}\n",
    "for image in IMAGES:\n",
    "    # Name the image\n",
    "    image_dict[image] = {}\n",
    "    image_dict[image][\"file_name\"] = image  # Redundent for the sake of clarity\n",
    "    image_dict[image][\"name\"] = image.split('.')[0]  # Without the .tif\n",
    "    \n",
    "    # Name the paths\n",
    "    image_dict[image][\"raw_path\"] = os.path.join(\"data\" , \"raw_images\", image_dict[image][\"file_name\"])\n",
    "    image_dict[image][\"cut_path\"] = os.path.join(\"results\" , image_dict[image][\"name\"], \"raw_cut_images\")\n",
    "    image_dict[image][\"thresholded_cut_path\"] = os.path.join(\"results\" ,  image_dict[image][\"name\"] , \"thresholded_cut_images\")\n",
    "    image_dict[image][\"labeled_cut_path\"] = os.path.join(\"results\" ,  image_dict[image][\"name\"] , \"labeled_cut_images\")"
   ]
  },
  {
   "cell_type": "code",
   "execution_count": null,
   "id": "b24801fc",
   "metadata": {},
   "outputs": [],
   "source": [
    "for key in image_dict:\n",
    "    required_paths.append(image_dict[image][\"cut_path\"])\n",
    "    required_paths.append(image_dict[image][\"thresholded_cut_path\"])\n",
    "    required_paths.append(image_dict[image][\"labeled_cut_path\"])\n",
    "createPaths(required_paths, dir_path)"
   ]
  },
  {
   "cell_type": "markdown",
   "id": "aca95606",
   "metadata": {},
   "source": [
    "# Cut and Threshold Images\n",
    "\n",
    "Running the cell below will cut and threshold the images insdie of the `data/raw_images` folder."
   ]
  },
  {
   "cell_type": "code",
   "execution_count": null,
   "id": "8fd0adac",
   "metadata": {},
   "outputs": [],
   "source": [
    "for key in image_dict:\n",
    "    image_dict[key][\"cut_image_dict\"] = loadImage(image_dict[key][\"raw_path\"], DIVIDE_X, DIVIDE_Y)\n",
    "    image_dict[key][\"thresholded_dict\"] = thresholdCutImages(image_dict[key][\"cut_image_dict\"], thresholding_function)"
   ]
  },
  {
   "cell_type": "code",
   "execution_count": null,
   "id": "461da26c",
   "metadata": {},
   "outputs": [],
   "source": [
    "image_dict[IMAGES[0]].keys()"
   ]
  },
  {
   "cell_type": "markdown",
   "id": "4be801fe",
   "metadata": {},
   "source": [
    "After running the cell above, the image has now been cut and thresholded. You may want to run the cell below in order to save the cut images and the thresholded images in their respective paths."
   ]
  },
  {
   "cell_type": "code",
   "execution_count": null,
   "id": "59672420",
   "metadata": {},
   "outputs": [],
   "source": [
    "# Saves the cut images\n",
    "saveDictionary(image_dict[key][\"cut_image_dict\"], dir_path, image_dict[key][\"cut_path\"], \"cut_image\")"
   ]
  },
  {
   "cell_type": "code",
   "execution_count": null,
   "id": "5c2aed9a",
   "metadata": {},
   "outputs": [],
   "source": [
    "saveDictionary(image_dict[key][\"thresholded_dict\"], dir_path, image_dict[key][\"thresholded_cut_path\"], \"cut_image\")"
   ]
  },
  {
   "cell_type": "markdown",
   "id": "d1bc4490",
   "metadata": {},
   "source": [
    "# Create heatmap"
   ]
  },
  {
   "cell_type": "code",
   "execution_count": null,
   "id": "e4bef326",
   "metadata": {},
   "outputs": [],
   "source": [
    "for key in image_dict:\n",
    "    image_dict[key][\"heat\"] = heatImage(image_dict[key][\"thresholded_dict\"])"
   ]
  },
  {
   "cell_type": "code",
   "execution_count": null,
   "id": "9d412fa7",
   "metadata": {},
   "outputs": [],
   "source": [
    "heatmap = np.zeros((25,25))\n",
    "for another_key in image_dict[key][\"heat\"]:\n",
    "    heatmap[another_key[0],another_key[1]] = image_dict[key][\"heat\"][another_key]"
   ]
  },
  {
   "cell_type": "code",
   "execution_count": null,
   "id": "03388240",
   "metadata": {},
   "outputs": [],
   "source": [
    "import matplotlib.pyplot as plt"
   ]
  },
  {
   "cell_type": "code",
   "execution_count": null,
   "id": "a6706e82",
   "metadata": {},
   "outputs": [],
   "source": [
    "plt.imshow(heatmap)"
   ]
  },
  {
   "cell_type": "markdown",
   "id": "10ccde80",
   "metadata": {},
   "source": [
    "# Temporary Functions\n",
    "\n",
    "These functions are temporarily stored down here. This allows rapid prototyping by keeping functions being worked on inside the same file as the interactive code. These should be ran immediately after the imports."
   ]
  },
  {
   "cell_type": "code",
   "execution_count": null,
   "id": "72fadcfe",
   "metadata": {},
   "outputs": [],
   "source": [
    "# Temporary cell for debugging these functions\n",
    "\n",
    "def loadLabeledImages(path, images, color=(0,0,0,255)):\n",
    "    \"\"\"\n",
    "    Loads in the the hand traced images and creates a binary image \n",
    "    of black pixels vs rest\n",
    "    Args:\n",
    "        path - the path to the folder containing ONLY the images.\n",
    "        images - the path to the file containing the images labeled.\n",
    "        color - the color the images were labeled in.\n",
    "    \"\"\"\n",
    "    text = open(images,'r')\n",
    "    labeled_images = [line for line in text.readlines() ]\n",
    "\n",
    "    labeled_image_dict = {}\n",
    "    for file in os.listdir(path):\n",
    "        if file[-4:] in labeled_images:\n",
    "            key = (int(file[-4:-2]), int(file[-2:]))\n",
    "            img = io.imread(path + '/' + file)\n",
    "            labeled_image_dict[key] = img == color\n",
    "    return labeled_image_dict\n",
    "\n",
    "def saveLabeledCutImages(labeled_image_dict, dir_path):\n",
    "    for key in labeled_image_dict:\n",
    "        name = \"{:02d}{:02d}\".format(key[0], key[1])\n",
    "        io.imsave(dir_path + \"/results/labeled_cut_images/labeled_img_\" + name + \".tif\", labeled_image_dict[key], check_contrast=False)\n",
    "    return None\n",
    "\n",
    "def testImages(labeled_image_dict, thresholded_dict):\n",
    "    score_dict = {}\n",
    "    for key in labeled_image_dict:\n",
    "        lt = labeled_image_dict[key]\n",
    "        tt = thresholded_dict[key]\n",
    "        union = lt | tt\n",
    "        intersection = lt & tt\n",
    "        ans = intersection / union \n",
    "        score_dict[key] = ans\n",
    "    return score_dict\n",
    "    "
   ]
  },
  {
   "cell_type": "code",
   "execution_count": null,
   "id": "1d006f06",
   "metadata": {},
   "outputs": [],
   "source": []
  }
 ],
 "metadata": {
  "kernelspec": {
   "display_name": "Python 3 (ipykernel)",
   "language": "python",
   "name": "python3"
  },
  "language_info": {
   "codemirror_mode": {
    "name": "ipython",
    "version": 3
   },
   "file_extension": ".py",
   "mimetype": "text/x-python",
   "name": "python",
   "nbconvert_exporter": "python",
   "pygments_lexer": "ipython3",
   "version": "3.9.7"
  }
 },
 "nbformat": 4,
 "nbformat_minor": 5
}
