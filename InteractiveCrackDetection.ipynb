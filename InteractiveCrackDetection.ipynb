{
 "cells": [
  {
   "cell_type": "markdown",
   "id": "838ddcc7",
   "metadata": {},
   "source": [
    "# Hello\n",
    "\n",
    "Welcome to the SME Pavement Crack Detection Interactive Notebook."
   ]
  },
  {
   "cell_type": "markdown",
   "id": "5d943140",
   "metadata": {},
   "source": [
    "# Install Dependencies\n",
    "\n",
    "Uncomment and run the first time to make sure you have all the dependencies."
   ]
  },
  {
   "cell_type": "code",
   "execution_count": null,
   "id": "a0d3fece",
   "metadata": {},
   "outputs": [],
   "source": [
    "#!pip install -r dependencies.txt"
   ]
  },
  {
   "cell_type": "markdown",
   "id": "477fc304",
   "metadata": {},
   "source": [
    "# Imports\n",
    "\n",
    " Please run the following code to import all of the functions."
   ]
  },
  {
   "cell_type": "code",
   "execution_count": null,
   "id": "45598707",
   "metadata": {},
   "outputs": [],
   "source": [
    "import numpy as np\n",
    "import os\n",
    "from skimage import io\n",
    "from skimage.filters import threshold_multiotsu\n",
    "from src.CreatePaths import createPaths\n",
    "from src.LoadImage import loadImage\n",
    "from src.ThresholdCutImages import thresholdCutImages\n",
    "from src.HeatImage import heatImage\n",
    "from src.TestImages import loadLabeledImages, testImages\n",
    "from src.SaveDictionary import saveDictionary\n",
    "from src.StitchImageDict import stitchImageDict, stitchRows"
   ]
  },
  {
   "cell_type": "markdown",
   "id": "50620c41",
   "metadata": {},
   "source": [
    "# Globals\n",
    "\n",
    "The following are definitions of global paramters. Change them as need be, but best to leave them alone."
   ]
  },
  {
   "cell_type": "code",
   "execution_count": null,
   "id": "def5a3b3",
   "metadata": {},
   "outputs": [],
   "source": [
    "# Feel free to change\n",
    "DIVIDE_X = 25  # Number of divisions on one of axies\n",
    "DIVIDE_Y = 25  # Number of diisions on other axis\n",
    "\n",
    "# Try not to change\n",
    "dir_path = os.path.realpath('.')  # The directory of the project.\n",
    "\n",
    "# Do not change\n",
    "thresholding_function = threshold_multiotsu  # Function for thresholding.\n"
   ]
  },
  {
   "cell_type": "markdown",
   "id": "3c582eb6",
   "metadata": {},
   "source": [
    "# Creating Paths\n",
    "\n",
    "The following code is to create the different sub folders that will be required to run the rest of the code."
   ]
  },
  {
   "cell_type": "code",
   "execution_count": null,
   "id": "05563ef6",
   "metadata": {},
   "outputs": [],
   "source": [
    "\n",
    "required_paths = [  # The folders that must exist.\n",
    "    os.path.realpath(\"./data\"),\n",
    "    os.path.realpath(\"./data/raw_images\"),  # Where the .tif files will be stored.\n",
    "    os.path.realpath(\"./results\"),\n",
    "]\n",
    "createPaths(required_paths, dir_path)"
   ]
  },
  {
   "cell_type": "markdown",
   "id": "3febe7db",
   "metadata": {},
   "source": [
    "# STOP\n",
    "\n",
    "Before proceding, please place your image in the `data/raw_images` folder."
   ]
  },
  {
   "cell_type": "code",
   "execution_count": null,
   "id": "859ddec0",
   "metadata": {},
   "outputs": [],
   "source": [
    "IMAGES = os.listdir(os.path.join(dir_path , \"data\" , \"raw_images\"))"
   ]
  },
  {
   "cell_type": "code",
   "execution_count": null,
   "id": "1e0e5264",
   "metadata": {},
   "outputs": [],
   "source": [
    "image_dict = {}\n",
    "for image in IMAGES:\n",
    "    # Name the image\n",
    "    image_dict[image] = {}\n",
    "    image_dict[image][\"file_name\"] = image  # Redundent for the sake of clarity\n",
    "    image_dict[image][\"name\"] = image.split('.')[0]  # Without the .tif\n",
    "    \n",
    "    # Name the paths\n",
    "    image_dict[image][\"raw_path\"] = os.path.join(\"data\" , \"raw_images\", image_dict[image][\"file_name\"])\n",
    "    image_dict[image][\"cut_path\"] = os.path.join(\"results\" , image_dict[image][\"name\"], \"raw_cut_images\")\n",
    "    image_dict[image][\"thresholded_cut_path\"] = os.path.join(\"results\" ,  image_dict[image][\"name\"] , \"thresholded_cut_images\")\n",
    "    image_dict[image][\"labeled_cut_path\"] = os.path.join(\"results\" ,  image_dict[image][\"name\"] , \"labeled_cut_images\")\n",
    "    image_dict[image][\"stitched_path\"] = os.path.join(\"results\" ,  image_dict[image][\"name\"] , \"stitched_image\")"
   ]
  },
  {
   "cell_type": "code",
   "execution_count": null,
   "id": "b24801fc",
   "metadata": {},
   "outputs": [],
   "source": [
    "for key in image_dict:\n",
    "    required_paths.append(image_dict[image][\"cut_path\"])\n",
    "    required_paths.append(image_dict[image][\"thresholded_cut_path\"])\n",
    "    required_paths.append(image_dict[image][\"labeled_cut_path\"])\n",
    "    required_paths.append(image_dict[key][\"stitched_path\"])\n",
    "createPaths(required_paths, dir_path)"
   ]
  },
  {
   "cell_type": "markdown",
   "id": "aca95606",
   "metadata": {},
   "source": [
    "# Cut and Threshold Images\n",
    "\n",
    "Running the cell below will cut and threshold the images insdie of the `data/raw_images` folder."
   ]
  },
  {
   "cell_type": "code",
   "execution_count": null,
   "id": "07268dd9",
   "metadata": {},
   "outputs": [],
   "source": [
    "image_dict"
   ]
  },
  {
   "cell_type": "code",
   "execution_count": null,
   "id": "8fd0adac",
   "metadata": {},
   "outputs": [],
   "source": [
    "for key in image_dict:\n",
    "    image_dict[key][\"cut_image_dict\"] = loadImage(image_dict[key][\"raw_path\"], DIVIDE_X, DIVIDE_Y)\n",
    "    image_dict[key][\"thresholded_dict\"] = thresholdCutImages(image_dict[key][\"cut_image_dict\"], thresholding_function)"
   ]
  },
  {
   "cell_type": "code",
   "execution_count": null,
   "id": "461da26c",
   "metadata": {},
   "outputs": [],
   "source": [
    "image_dict[IMAGES[0]].keys()"
   ]
  },
  {
   "cell_type": "markdown",
   "id": "4be801fe",
   "metadata": {},
   "source": [
    "After running the cell above, the image has now been cut and thresholded. You may want to run the cell below in order to save the cut images and the thresholded images in their respective paths."
   ]
  },
  {
   "cell_type": "code",
   "execution_count": null,
   "id": "59672420",
   "metadata": {},
   "outputs": [],
   "source": [
    "# Saves the cut images\n",
    "saveDictionary(image_dict[key][\"cut_image_dict\"], dir_path, image_dict[key][\"cut_path\"], \"cut_image\")"
   ]
  },
  {
   "cell_type": "code",
   "execution_count": null,
   "id": "5c2aed9a",
   "metadata": {},
   "outputs": [],
   "source": [
    "saveDictionary(image_dict[key][\"thresholded_dict\"], dir_path, image_dict[key][\"thresholded_cut_path\"], \"cut_image\")"
   ]
  },
  {
   "cell_type": "markdown",
   "id": "810b3530",
   "metadata": {},
   "source": [
    "# Stitch Image"
   ]
  },
  {
   "cell_type": "code",
   "execution_count": null,
   "id": "bbc873c3",
   "metadata": {},
   "outputs": [],
   "source": [
    "for key in image_dict:\n",
    "    image_dict[key][\"stitched_image\"] = stitchImageDict(image_dict[key][\"thresholded_dict\"])\n"
   ]
  },
  {
   "cell_type": "code",
   "execution_count": null,
   "id": "0b514343",
   "metadata": {},
   "outputs": [],
   "source": [
    "for key in image_dict:\n",
    "    io.imsave(os.path.join(dir_path, image_dict[key]['stitched_path'], \"stitched_image.tif\" ), image_dict[key][\"stitched_image\"])\n",
    "    "
   ]
  },
  {
   "cell_type": "markdown",
   "id": "d1bc4490",
   "metadata": {},
   "source": [
    "# Create heatmap"
   ]
  },
  {
   "cell_type": "code",
   "execution_count": null,
   "id": "e4bef326",
   "metadata": {},
   "outputs": [],
   "source": [
    "for key in image_dict:\n",
    "    image_dict[key][\"heat\"] = heatImage(image_dict[key][\"thresholded_dict\"])"
   ]
  },
  {
   "cell_type": "code",
   "execution_count": null,
   "id": "9d412fa7",
   "metadata": {},
   "outputs": [],
   "source": [
    "heatmap = np.zeros((25,25))\n",
    "for another_key in image_dict[key][\"heat\"]:\n",
    "    heatmap[another_key[0],another_key[1]] = image_dict[key][\"heat\"][another_key]"
   ]
  },
  {
   "cell_type": "code",
   "execution_count": null,
   "id": "03388240",
   "metadata": {},
   "outputs": [],
   "source": [
    "import matplotlib.pyplot as plt"
   ]
  },
  {
   "cell_type": "code",
   "execution_count": null,
   "id": "a6706e82",
   "metadata": {},
   "outputs": [],
   "source": [
    "plt.imshow(heatmap)"
   ]
  },
  {
   "cell_type": "markdown",
   "id": "5728e074",
   "metadata": {},
   "source": [
    "# Scoring"
   ]
  },
  {
   "cell_type": "code",
   "execution_count": null,
   "id": "857b135a",
   "metadata": {},
   "outputs": [],
   "source": [
    "#!pip install opencv-contrib-python==4.5.3.56"
   ]
  },
  {
   "cell_type": "code",
   "execution_count": null,
   "id": "e00a74c6",
   "metadata": {},
   "outputs": [],
   "source": [
    "import cv2\n",
    "\n",
    "def loadLabeledImages(path, images, color=(0,0,0)):\n",
    "    \"\"\"\n",
    "    Loads in the the hand traced images and creates a binary image \n",
    "    of black pixels vs rest\n",
    "    Args:\n",
    "        path - the path to the folder containing ONLY the images - ground_truth folder.\n",
    "        images - the path to the file containing the images labeled - .txt.\n",
    "        color - the color the images were labeled in.\n",
    "    \"\"\"\n",
    "    text = open(images,'r')\n",
    "    labeled_images = [line for line in text.readlines() ]\n",
    "    for name in range(len(labeled_images)):\n",
    "        labeled_images[name] = labeled_images[name].strip()\n",
    "    #print(labeled_images)\n",
    "    \n",
    "    labeled_image_dict = {}\n",
    "    for file in os.listdir(path):\n",
    "        if file[-8:-4] in labeled_images:\n",
    "            key = (int(file[-8:-6]), int(file[-6:-4]))\n",
    "            # some corrupted files so have to check\n",
    "            try:\n",
    "                # cv2 loads as BGR, not RGB\n",
    "                # not applicable in this case\n",
    "                img = cv2.imread(os.path.join(path, file))\n",
    "                labeled_image_dict[key] = cv2.inRange(img[...,:3], color, color)\n",
    "            except:\n",
    "                #print('no good')\n",
    "                print(key)\n",
    "                \n",
    "    return labeled_image_dict"
   ]
  },
  {
   "cell_type": "code",
   "execution_count": null,
   "id": "3f6edaaa",
   "metadata": {},
   "outputs": [],
   "source": [
    "labeled_img = loadLabeledImages('./data/ground_truth/', './data/LabeledImages.txt')"
   ]
  },
  {
   "cell_type": "code",
   "execution_count": null,
   "id": "84df780c",
   "metadata": {},
   "outputs": [],
   "source": [
    "saveDictionary(labeled_img, dir_path, image_dict[image]['labeled_cut_path'], \"ground_truth\")"
   ]
  },
  {
   "cell_type": "code",
   "execution_count": null,
   "id": "6d17a297",
   "metadata": {},
   "outputs": [],
   "source": [
    "def testImages(labeled_image_dict, thresholded_dict):\n",
    "    score_dict = {}\n",
    "    for key in labeled_image_dict:\n",
    "        # percent different\n",
    "        # is a heuristic for percent wrong\n",
    "        cLabeled = np.count_nonzero(labeled_image_dict[key])\n",
    "        cThresh = np.count_nonzero(thresholded_dict[key])\n",
    "        ans = np.min(cLabeled, cThresh) / np.max(cLabeled, cThresh)\n",
    "        score_dict[key] = ans\n",
    "    return score_dict"
   ]
  },
  {
   "cell_type": "code",
   "execution_count": null,
   "id": "cdf71e54",
   "metadata": {},
   "outputs": [],
   "source": [
    "score = testImages(labeled_img, image_dict[image]['thresholded_dict'])\n",
    "np.average(list(score.values()))"
   ]
  }
 ],
 "metadata": {
  "kernelspec": {
   "display_name": "Python 3 (ipykernel)",
   "language": "python",
   "name": "python3"
  },
  "language_info": {
   "codemirror_mode": {
    "name": "ipython",
    "version": 3
   },
   "file_extension": ".py",
   "mimetype": "text/x-python",
   "name": "python",
   "nbconvert_exporter": "python",
   "pygments_lexer": "ipython3",
   "version": "3.8.12"
  }
 },
 "nbformat": 4,
 "nbformat_minor": 5
}
