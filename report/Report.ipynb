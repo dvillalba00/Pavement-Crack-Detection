{
 "cells": [
  {
   "cell_type": "markdown",
   "id": "d79bc25d",
   "metadata": {},
   "source": [
    "# CMSE 495 SME – Pavement Crack Detection "
   ]
  },
  {
   "cell_type": "markdown",
   "id": "744a23f1",
   "metadata": {},
   "source": [
    "#### Team: Noor Al Haidari, Jessica Parks, Alder Fulton, Akash Gupta, Daniel Villalba "
   ]
  },
  {
   "cell_type": "markdown",
   "id": "2f7c19d2",
   "metadata": {},
   "source": [
    "## Abstract "
   ]
  },
  {
   "cell_type": "markdown",
   "id": "93b4074d",
   "metadata": {},
   "source": [
    "Soil and Material Engineers (SME) sponsored a student led team as part of the 2023 capstone for Data Science majors at Michigan State University (MSU). SME’s area of expertise ranges from building and construction materials to steel, coating, and nondestructive testing. Our project attempted to identify cracks in pavement surfaces, specifically asphalt. The team used Python programming language to process the SME-provided drone images of pavement. Those pictures were processed and ran through a thresholding algorithm with the goal to identify cracks in the pavement. Through identifying cracks, we hoped to assist in decreasing the amount of manual labor hours required to identify cracks within large aerial drone images. Through the implementation of thresholding, we were able to achieve an algorithm that can separate cracks from the asphalt background in the example image we were given. "
   ]
  },
  {
   "cell_type": "markdown",
   "id": "213c3b11",
   "metadata": {},
   "source": [
    "## Background "
   ]
  },
  {
   "cell_type": "markdown",
   "id": "7d8005be",
   "metadata": {},
   "source": [
    "One of the many projects SME addresses is evaluating pavement conditions for asphalt surfaces. Pursuant of increasing labor efficiency, SME provided us with drone images with asphalt pavement. The current process for SME to identify cracks in pavement is to walk the grounds and manually identify the cracks. A program to threshold aerial images could reduce the required manual hours for identifying cracks by allowing large aerial images to be processed ahead of time to eliminate some or all the labor needed to estimate the extent of asphalt damage and the repairs.  \n",
    "\n",
    " \n",
    "\n",
    "These images are large, high definition so they are very detailed. Due to the size of the image, we mostly worked with only one image. Since we only worked with one image for most of the time, this would make machine learning very impractical with both expensive computation time and not nearly enough data. An alternative method that makes a lot more sense is image thresholding. Image thresholding is digital processing that involves separating an image into regions of interest, typically by converting the image from a grayscale to a binary representation. In this process, a threshold value is used to separate the foreground from the background pixels of an image. The threshold value is determined by comparing the intensity of each pixel in the image. If the intensity of the pixel is greater than the threshold value, it is classified as belonging to the foreground; if it is less than the threshold value, it is classified as belonging to the background. "
   ]
  },
  {
   "cell_type": "markdown",
   "id": "d6cd1c04",
   "metadata": {},
   "source": [
    "## Methodology"
   ]
  },
  {
   "cell_type": "markdown",
   "id": "4c22b74f",
   "metadata": {},
   "source": [
    "A thresholding function automatically determines a cutoff point at which to classify one thing as another. The thresholding functions we used for this project create a histogram of the intensities of colors, regardless of either hue or saturation. This works by turning the image into grayscale first, making this type of thresholding uniquely suitable for looking at asphalt, which is already shades of gray.  \n",
    "\n",
    "One of the most common thresholding techniques is Otsu's method, which maximizes the variance between foreground and background pixels. After experimenting with this thresholding technique, we decided that multi-Otsu's method was better for application.\n",
    "\n",
    "![multi_v_otsu.png](multi_v_otsu.png)\n",
    "\n",
    "Otsu's thresholding is an automatic image thresholding method that aims to determine the optimal threshold value for image segmentation. It is based on the idea that the threshold value should be chosen to maximize the variance between the foreground and background pixels in the image. The algorithm works by first computing the histogram of the image, which shows the distribution of pixel intensities. Then, it calculates the probabilities of the pixels belonging to the foreground and background classes for all possible threshold values. Finally, it selects the threshold value that maximizes the between-class variance. \n",
    "\n",
    "Global thresholding is an image segmentation technique that involves applying a single threshold value to the entire image. This method assumes that the pixel intensities in the foreground and background of the image have distinct intensity values. Otsu’s method is an example of this type of method. Our application of it, however, makes it more of a local threshold because we divided the image into 625 smaller images and thresholded each individually. \n",
    "\n",
    "While global thresholding can work in many instances, in our case we needed to locally threshold segments of our image. Doing so can reduce the amount of noise in the image segment, rather than exposing the threshold technique to all of the noise in the entire image and basing the threshold cut off on this information.  \n",
    "\n",
    "In our code, we utilized the skimage library and imported the multi-Otsu function. In addition, the team created six functions; Create_Paths, Load_Image, Threshold_Cut_Images, Heat_Image, Save_Dictionary,  and Stitch_Image_Dictionary.  \n",
    "\n",
    "The Create_Paths function creates the paths for the image on the user’s computer. The Load_image function takes three inputs with the first being the image file name, the second and third being the number of rows and columns to divide the image into. This function reads in the image file, cuts the image into smaller sections, then creates a dictionary of the cut images. The Threshold_Cut_Images function then takes in this dictionary as well as a thresholding function (such as threshold_otsu) and applies that thresholding function to each image in the dictionary. The function then outputs a dictionary with the threshold images. \n",
    "\n",
    "The Save_Dictionary function takes in a dictionary where the keys are tuples of (x,y) and the values are images as NumPy arrays, the folder to save these images, and the string that makes up the first half of each file’s name. The last function, Stitch_Image_Dictionary takes in all the pictures and puts them together to produce the final whole image after being thresholded. The last file, Heat_Image takes in the thresholded dictionary and returns a dictionary with the same keys, and the values equaling to the sum of the white pixels.  "
   ]
  },
  {
   "cell_type": "markdown",
   "id": "be6e7919",
   "metadata": {},
   "source": [
    "## Acknowledgements \n",
    "\n",
    "Thank you to SME for the opportunity to work with their company and for sharing their images with us. Thank you to Paul Roberts and Zac Miller for their time and collaboration on our project. A big thank you to our professor Dr. Dirk Colbry and TA Serena Lotreck who taught our class and helped us progress in our project.  "
   ]
  },
  {
   "cell_type": "markdown",
   "id": "e93447a4",
   "metadata": {},
   "source": [
    "## References\n",
    "\n",
    "* *Multi-Otsu Thresholding* [Multi-Otsu Thresholding - Skimage v0.20.0 Docs](https://scikit-image.org/docs/stable/auto_examples/segmentation/plot_multiotsu.html)\n",
    "\n",
    "* Colbry, Dirk. *Scientific_Image_Understanding* [GitHub](https://github.com/colbrydi/Scientific_Image_Understanding)"
   ]
  },
  {
   "cell_type": "code",
   "execution_count": null,
   "id": "31e52ce5",
   "metadata": {},
   "outputs": [],
   "source": []
  }
 ],
 "metadata": {
  "kernelspec": {
   "display_name": "Python 3 (ipykernel)",
   "language": "python",
   "name": "python3"
  },
  "language_info": {
   "codemirror_mode": {
    "name": "ipython",
    "version": 3
   },
   "file_extension": ".py",
   "mimetype": "text/x-python",
   "name": "python",
   "nbconvert_exporter": "python",
   "pygments_lexer": "ipython3",
   "version": "3.8.12"
  }
 },
 "nbformat": 4,
 "nbformat_minor": 5
}
