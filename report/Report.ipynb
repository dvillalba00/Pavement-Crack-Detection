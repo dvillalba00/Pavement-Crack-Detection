{
 "cells": [
  {
   "cell_type": "markdown",
   "id": "d79bc25d",
   "metadata": {},
   "source": [
    "# CMSE 495 SME – Pavement Crack Detection "
   ]
  },
  {
   "cell_type": "markdown",
   "id": "744a23f1",
   "metadata": {},
   "source": [
    "#### Team: Noor Al Haidari, Jessica Parks, Alder Fulton, Akash Gupta, Daniel Villalba "
   ]
  },
  {
   "cell_type": "markdown",
   "id": "2f7c19d2",
   "metadata": {},
   "source": [
    "## Abstract "
   ]
  },
  {
   "cell_type": "markdown",
   "id": "93b4074d",
   "metadata": {},
   "source": [
    "Soil and Material Engineers (SME) sponsored a student led team as part of the 2023 capstone for Data Science majors at Michigan State University (MSU). SME’s area of expertise ranges from building and construction materials to steel, coating, and nondestructive testing. Our project attempted to identify cracks in pavement surfaces, specifically asphalt. The team used Python programming language to process the SME-provided drone images of pavement. Those pictures were processed and ran through a thresholding algorithm with the goal to identify cracks in the pavement. Through identifying cracks, we hoped to assist in decreasing the amount of manual labor hours required to identify cracks within large aerial drone images. Through the implementation of thresholding, we were able to achieve an algorithm that can separate cracks from the asphalt background in the example image we were given. "
   ]
  },
  {
   "cell_type": "markdown",
   "id": "213c3b11",
   "metadata": {},
   "source": [
    "## Background "
   ]
  },
  {
   "cell_type": "markdown",
   "id": "7d8005be",
   "metadata": {},
   "source": [
    "One of the many projects SME addresses is evaluating pavement conditions for asphalt surfaces. Pursuant of increasing labor efficiency, SME provided us with drone images with asphalt pavement. The current process for SME to identify cracks in pavement is to walk the grounds and manually identify the cracks. A program to threshold aerial images could reduce the required manual hours for identifying cracks by allowing large aerial images to be processed ahead of time to eliminate some or all the labor needed to estimate the extent of asphalt damage and the repairs.  \n",
    "\n",
    " \n",
    "\n",
    "These images are large, high definition so they are very detailed. Due to the size of the image, we mostly worked with only one image. Since we only worked with one image for most of the time, this would make machine learning very impractical with both expensive computation time and not nearly enough data. An alternative method that makes a lot more sense is image thresholding. Image thresholding is digital processing that involves separating an image into regions of interest, typically by converting the image from a grayscale to a binary representation. In this process, a threshold value is used to separate the foreground from the background pixels of an image. The threshold value is determined by comparing the intensity of each pixel in the image. If the intensity of the pixel is greater than the threshold value, it is classified as belonging to the foreground; if it is less than the threshold value, it is classified as belonging to the background. "
   ]
  },
  {
   "cell_type": "markdown",
   "id": "d6cd1c04",
   "metadata": {},
   "source": [
    "## Methodology"
   ]
  },
  {
   "cell_type": "markdown",
   "id": "4c22b74f",
   "metadata": {},
   "source": [
    "A thresholding function automatically determines a cutoff point at which to classify one thing as another. The thresholding functions we used for this project create a histogram of the intensities of colors, regardless of either hue or saturation. This works by turning the image into grayscale first, making this type of thresholding uniquely suitable for looking at asphalt, which is already shades of gray.  \n",
    "\n",
    "One of the most common thresholding techniques is Otsu's method, which maximizes the variance between foreground and background pixels. After experimenting with this thresholding technique, we decided that multi-Otsu's method was better for application.\n",
    "\n",
    "![multi_v_otsu.png](multi_v_otsu.png)\n",
    "\n",
    "Otsu's thresholding is an automatic image thresholding method that aims to determine the optimal threshold value for image segmentation. It is based on the idea that the threshold value should be chosen to maximize the variance between the foreground and background pixels in the image. The algorithm works by first computing the histogram of the image, which shows the distribution of pixel intensities. Then, it calculates the probabilities of the pixels belonging to the foreground and background classes for all possible threshold values. Finally, it selects the threshold value that maximizes the between-class variance. \n",
    "\n",
    "Global thresholding is an image segmentation technique that involves applying a single threshold value to the entire image. This method assumes that the pixel intensities in the foreground and background of the image have distinct intensity values. Otsu’s method is an example of this type of method. Our application of it, however, makes it more of a local threshold because we divided the image into 625 smaller images and thresholded each individually. \n",
    "\n",
    "While global thresholding can work in many instances, in our case we needed to locally threshold segments of our image. Doing so can reduce the amount of noise in the image segment, rather than exposing the threshold technique to all of the noise in the entire image and basing the threshold cut off on this information.  \n",
    "\n",
    "In our code, we utilized the skimage library and imported the multi-Otsu function. In addition, the team created six functions; Create_Paths, Load_Image, Threshold_Cut_Images, Heat_Image, Save_Dictionary,  and Stitch_Image_Dictionary.  \n",
    "\n",
    "The Create_Paths function creates the paths for the image on the user’s computer. The Load_image function takes three inputs with the first being the image file name, the second and third being the number of rows and columns to divide the image into. This function reads in the image file, cuts the image into smaller sections, then creates a dictionary of the cut images. The Threshold_Cut_Images function then takes in this dictionary as well as a thresholding function (such as threshold_otsu) and applies that thresholding function to each image in the dictionary. The function then outputs a dictionary with the threshold images. \n",
    "\n",
    "The Save_Dictionary function takes in a dictionary where the keys are tuples of (x,y) and the values are images as NumPy arrays, the folder to save these images, and the string that makes up the first half of each file’s name. The last function, Stitch_Image_Dictionary takes in all the pictures and puts them together to produce the final whole image after being thresholded. The last file, Heat_Image takes in the thresholded dictionary and returns a dictionary with the same keys, and the values equaling to the sum of the white pixels.  "
   ]
  },
  {
   "cell_type": "markdown",
   "id": "a1032337",
   "metadata": {},
   "source": [
    "## Results\n",
    "\n",
    "After working through several different thresholding methods, the best overall result of the project was the Multi-Otsu thresholded image, as shown in Figure 1 below. Multi-Otsu was chosen over the other methods due to it having the best score through our scoring method. This method best showed the cracks on the pavement while also minimizing the noise in the data and worked best as an overall average use. \n",
    "![multiOtsu](multiOtsu.png)\n",
    "Regarding our data, multi-Otsu did the best at displaying the cracks in the image. This method may not be the case for different data. Certain environmental factors that affected this image may not be the same for other images passed through our algorithm. Factors such as the amount of sunlight, time of day, precipitation, and other factors could impact how an image looks. For example, if the picture was taken during sunset time the visibility of some of the cracks will be different in contrast to the other cracks in the pavement. For this reason, multi-Otsu will not always be the best threshold technique to use. To address some of these discrepancies, our algorithm does allow for the changing of the threshold method in one line at the beginning of the file so the output can adapt to the image’s variables. \n",
    "\n",
    "By adjusting the threshold method, the algorithm uses that method in order to differentiate between foreground and background pixels. Specifically, if the threshold is increased, fewer pixels will be classified as foreground, resulting in a darker image with less detail. Conversely, if the threshold is decreased, more pixels will be classified as foreground, resulting in a lighter image with more detail. "
   ]
  },
  {
   "cell_type": "markdown",
   "id": "f929c73a",
   "metadata": {},
   "source": [
    "## Future Work\n",
    "\n",
    "There are many ways our project can be expanded on. One way includes finding better methods that would better detect fine cracks, called alligator cracks, which have been difficult for our algorithm to pick up.  \n",
    "\n",
    "Additionally, when our team began working with the second image we received, we realized our algorithm often failed to detect cracks that were lighter than the pavement; While it is true that we do not manually set the thresholds for images, our entire code up to that point had implicitly assumed that cracks will always be darker than the surrounding pavement. We only realized that this assumption does not hold true for other images, specifically environments such as the one from our second image. This represents a broader issue with our project where we don’t know where our code will falter or fail because we have tried the code on so few images. After realizing this, our group identified environmental factors that could impact the features of an image that our algorithm is currently not designed to pick up on. Some of the factors that future algorithms can take into consideration are the time of day which is the image is taken and the affect this has on shadows, how sunny or cloudy the weather was at the time the picture was taken, and if the image is darker due to recent precipitation.  \n",
    "\n",
    "Another way our algorithm can be expanded is by including image classification. One example would be to classify the severity of each crack by its thickness and length. This could help SME identify what locations may need to be visited sooner or require mor attention. Additionally, identifying the parts of the image that are and are not pavement could also be another classification implementation. This would be helpful in eliminating excess noise from the image, so it does not interfere with the algorithm. "
   ]
  },
  {
   "cell_type": "markdown",
   "id": "2a0a5d62",
   "metadata": {},
   "source": [
    "## Acknowledgements \n",
    "\n",
    "Thank you to SME for the opportunity to work with their company and for sharing their images with us. Thank you to Paul Roberts and Zac Miller for their time and collaboration on our project. A big thank you to our professor Dr. Dirk Colbry and TA Serena Lotreck who taught our class and helped us progress in our project.  "
   ]
  },
  {
   "cell_type": "markdown",
   "id": "7cb59357",
   "metadata": {},
   "source": [
    "## References\n",
    "\n",
    "* *Multi-Otsu Thresholding* [Multi-Otsu Thresholding - Skimage v0.20.0 Docs](https://scikit-image.org/docs/stable/auto_examples/segmentation/plot_multiotsu.html)\n",
    "\n",
    "* Colbry, Dirk. *Scientific_Image_Understanding* [GitHub](https://github.com/colbrydi/Scientific_Image_Understanding)"
   ]
  },
  {
   "cell_type": "markdown",
   "id": "eee5ac34",
   "metadata": {},
   "source": [
    "## Appendix"
   ]
  },
  {
   "cell_type": "markdown",
   "id": "67e9b34f",
   "metadata": {},
   "source": [
    "**Threshold Multi-Otsu**\n",
    "![](multiOtsu.png)"
   ]
  },
  {
   "cell_type": "markdown",
   "id": "9ce2bc71",
   "metadata": {},
   "source": [
    "**Threshold Otsu**\n",
    "![](otsu.png)"
   ]
  },
  {
   "cell_type": "markdown",
   "id": "61f88240",
   "metadata": {},
   "source": [
    "**Threshold Isodata**\n",
    "![](thresholdIsodata.png)"
   ]
  },
  {
   "cell_type": "markdown",
   "id": "3d4c61ca",
   "metadata": {},
   "source": [
    "**Threshold Li**\n",
    "![](li.png)"
   ]
  },
  {
   "cell_type": "markdown",
   "id": "555aa17d",
   "metadata": {},
   "source": [
    "**Threshold Yen**\n",
    "![](yen.png)"
   ]
  },
  {
   "cell_type": "markdown",
   "id": "688d21dd",
   "metadata": {},
   "source": [
    "**Threshold Triangle**\n",
    "![](triangle.png)"
   ]
  },
  {
   "cell_type": "markdown",
   "id": "ea9ea13a",
   "metadata": {},
   "source": [
    "**Threshold Mean**\n",
    "![](mean.png)"
   ]
  }
 ],
 "metadata": {
  "kernelspec": {
   "display_name": "Python 3 (ipykernel)",
   "language": "python",
   "name": "python3"
  },
  "language_info": {
   "codemirror_mode": {
    "name": "ipython",
    "version": 3
   },
   "file_extension": ".py",
   "mimetype": "text/x-python",
   "name": "python",
   "nbconvert_exporter": "python",
   "pygments_lexer": "ipython3",
   "version": "3.8.12"
  }
 },
 "nbformat": 4,
 "nbformat_minor": 5
}
